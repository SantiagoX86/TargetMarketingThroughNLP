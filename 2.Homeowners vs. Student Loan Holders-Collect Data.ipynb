{
 "cells": [
  {
   "cell_type": "markdown",
   "metadata": {},
   "source": [
    "# Homeowners vs. Student Loan Holders"
   ]
  },
  {
   "cell_type": "markdown",
   "metadata": {},
   "source": [
    "# Imports"
   ]
  },
  {
   "cell_type": "code",
   "execution_count": 1,
   "metadata": {},
   "outputs": [],
   "source": [
    "from pprint import pprint\n",
    "import requests\n",
    "import praw\n",
    "import pandas as pd\n",
    "import os"
   ]
  },
  {
   "cell_type": "markdown",
   "metadata": {},
   "source": [
    "# Collect Data\n",
    "1. Set up Praw application\n",
    "2. Scrape subreddits\n",
    "3. Perform initial data cleaning"
   ]
  },
  {
   "cell_type": "markdown",
   "metadata": {},
   "source": [
    "## 1. Set up Praw application"
   ]
  },
  {
   "cell_type": "code",
   "execution_count": 2,
   "metadata": {},
   "outputs": [],
   "source": [
    "# Instantiate praw.Reddit with parameters\n",
    "reddit = praw.Reddit(\n",
    "    client_id='z3xYiQacMHCFBA',\n",
    "    client_secret='ftR23i8FPkJ-SdnCPaMGBCA0NmWs-w',\n",
    "    password='REDDIT3s2h8s6',\n",
    "    username='SantiagoX86',\n",
    "    user_agent='Project 3'\n",
    ")"
   ]
  },
  {
   "cell_type": "markdown",
   "metadata": {},
   "source": [
    "## 2. Scrape Subreddits"
   ]
  },
  {
   "cell_type": "code",
   "execution_count": 3,
   "metadata": {},
   "outputs": [],
   "source": [
    "# Create column arrays\n",
    "ids = []\n",
    "title = []\n",
    "body = []\n",
    "comments = []\n",
    "upvotes = []\n",
    "subreddit = []\n",
    "\n",
    "# Create function interating over subreddit filling columns\n",
    "def scrape_reddit(subreddit_name, num_posts):\n",
    "    for sub in reddit.subreddit(subreddit_name).new(limit=num_posts):\n",
    "        ids.append(sub.id)\n",
    "        title.append(sub.title)\n",
    "        body.append(sub.selftext)\n",
    "        comments.append(sub.num_comments)\n",
    "        upvotes.append(sub.ups)\n",
    "        subreddit.append(sub.subreddit)"
   ]
  },
  {
   "cell_type": "code",
   "execution_count": 4,
   "metadata": {},
   "outputs": [],
   "source": [
    "# Call scrape_reddit on subreddits\n",
    "scrape_reddit('HomeImprovement', 12000)\n",
    "scrape_reddit('StudentLoans', 12000)"
   ]
  },
  {
   "cell_type": "code",
   "execution_count": 5,
   "metadata": {},
   "outputs": [],
   "source": [
    "# Create Dataframe\n",
    "srdf = pd.DataFrame({'ids':ids,'title':title,'body':body,'comments':comments,\n",
    "             'upvotes':upvotes,'subreddit':subreddit})"
   ]
  },
  {
   "cell_type": "markdown",
   "metadata": {},
   "source": [
    "## 3. Perform initial data cleaning"
   ]
  },
  {
   "cell_type": "code",
   "execution_count": 7,
   "metadata": {},
   "outputs": [],
   "source": [
    "# Create a column for length of posts\n",
    "srdf['post_length'] = [len(post) for post in srdf['body']]\n",
    "# Cut posts that are \n",
    "srdf = srdf[srdf['post_length'] > 25]"
   ]
  },
  {
   "cell_type": "code",
   "execution_count": 8,
   "metadata": {},
   "outputs": [],
   "source": [
    "# Drop duplicate posts\n",
    "srdf.drop_duplicates(subset = ['title', 'body', 'subreddit'], inplace=True)"
   ]
  },
  {
   "cell_type": "markdown",
   "metadata": {},
   "source": [
    "## 4. Save data"
   ]
  },
  {
   "cell_type": "code",
   "execution_count": 9,
   "metadata": {},
   "outputs": [],
   "source": [
    "# Create \"after_collection\" dataframe if not already exists\n",
    "if not os.path.exists('./data/after_collection.csv'):\n",
    "    srdf.to_csv('./data/after_collection.csv', index=False)"
   ]
  },
  {
   "cell_type": "code",
   "execution_count": 10,
   "metadata": {},
   "outputs": [],
   "source": [
    "# Read in previously saved data\n",
    "acdf = pd.read_csv('./data/after_collection.csv')"
   ]
  },
  {
   "cell_type": "code",
   "execution_count": 15,
   "metadata": {},
   "outputs": [],
   "source": [
    "# Add new data to existent data\n",
    "acdf = pd.concat([acdf,srdf])"
   ]
  },
  {
   "cell_type": "code",
   "execution_count": 16,
   "metadata": {},
   "outputs": [],
   "source": [
    "# Drop duplicate posts\n",
    "acdf.drop_duplicates(subset = ['title', 'body', 'subreddit'], inplace=True)"
   ]
  },
  {
   "cell_type": "markdown",
   "metadata": {},
   "source": [
    "# I commented out the following cell to keep it from overwriting final data in final project submission. During the time I was working on the project I used this notebook to collect data and update the dataframe."
   ]
  },
  {
   "cell_type": "code",
   "execution_count": 17,
   "metadata": {},
   "outputs": [],
   "source": [
    "# # Save updated \"after_collection\" dataframe\n",
    "# acdf.to_csv('./data/after_collection.csv', index=False)"
   ]
  },
  {
   "cell_type": "code",
   "execution_count": null,
   "metadata": {},
   "outputs": [],
   "source": []
  }
 ],
 "metadata": {
  "kernelspec": {
   "display_name": "Python 3",
   "language": "python",
   "name": "python3"
  },
  "language_info": {
   "codemirror_mode": {
    "name": "ipython",
    "version": 3
   },
   "file_extension": ".py",
   "mimetype": "text/x-python",
   "name": "python",
   "nbconvert_exporter": "python",
   "pygments_lexer": "ipython3",
   "version": "3.8.5"
  }
 },
 "nbformat": 4,
 "nbformat_minor": 4
}
